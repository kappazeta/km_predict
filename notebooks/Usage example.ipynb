{
 "cells": [
  {
   "cell_type": "markdown",
   "id": "02dffdfa-1199-4b37-9c16-1dd98f16581a",
   "metadata": {},
   "source": [
    "# AI-based cloud and cloud shadow detection processor for Sentinel-2"
   ]
  },
  {
   "cell_type": "markdown",
   "id": "12dfa6c3-d179-424c-bc83-b3f3a9eea7da",
   "metadata": {},
   "source": [
    "🚀 This notebook explains how to use cloud mask processor on the Sentinel-2 products."
   ]
  },
  {
   "cell_type": "markdown",
   "id": "323a10ea-00f2-4fda-8e29-e8863a374a0e",
   "metadata": {},
   "source": [
    "*** \n",
    "### Before you start \n",
    "\n",
    "Clone this repo, download the Sentinel-2 product you want to use, and create conda environment using [environment.yml](environment.yml). Make sure that you have sub-tiling tool [cm-vsm](https://github.com/kappazeta/cm-vsm) installed."
   ]
  },
  {
   "cell_type": "markdown",
   "id": "18c0c568-8d15-4336-91fe-4288b5793d75",
   "metadata": {},
   "source": [
    "```bash\n",
    "$ git clone https://github.com/kappazeta/cm_predict.git\n",
    "$ cd cm_predict\n",
    "$ conda env create -f environment.yml\n",
    "```"
   ]
  },
  {
   "cell_type": "markdown",
   "id": "b71de5be-e76f-4d69-a494-b2493afd96cf",
   "metadata": {},
   "source": [
    "### Run tool on the Sentinel-2 product"
   ]
  },
  {
   "cell_type": "markdown",
   "id": "8dcb1a81-220a-4654-aa20-4e62dc32f36d",
   "metadata": {},
   "source": [
    "#### 1. Input data\n",
    "\n",
    "In the root of repository create a ```/data``` folder and copy or symlink the ```.SAFE``` product into it."
   ]
  },
  {
   "cell_type": "markdown",
   "id": "1f970e3f-2aba-4069-be12-3375d8b0cb83",
   "metadata": {},
   "source": [
    "#### 2. Create config file.\n",
    "For this copy ```config/config_example.json``` and adapt it to your needs. Parameters that are needed to be changed are listed below:\n",
    "1. folder_name - folder name where Sentinel-2 SAFE product is located, e.g. \"data\"\n",
    "2. product_name - Sentinel-2 product name, e.g. \"S2A_MSIL1C_20210608T103021_N0300_R108_T31TFJ_20210608T123816\". Note that SAFE extension is not specified.\n",
    "3. level_product - Sentinel-2 product level, L1C or L2A\n",
    "\n",
    "Additionaly, you can specify overlapping size (needed for sub-tiling), tile size, resampling method and architecture used for cloud segmentation."
   ]
  },
  {
   "cell_type": "markdown",
   "id": "f90e56b0-200a-4675-afb2-b5cfd864a953",
   "metadata": {},
   "source": [
    "#### 3. Run cm_predict\n",
    "\n",
    "Run cm_predict by specifying path to the config file ```-c config/your_config.json```. \n",
    "\n",
    "```bash\n",
    "$ conda activate cm_predict\n",
    "$ python cm_predict.py -c config/your_config.json\n",
    "```\n",
    "\n",
    "If the prediction for the same product is running multiple times and there is no need to sub-tile product agaon, you can disable sub_tiling procedure for the next run by using ```-t```. \n",
    "\n",
    "```bash\n",
    "$ python cm_predict.py -c config/your_config.json -t\n",
    "```\n",
    "\n",
    "The predictor will generate sub-tiles masks under ```/prediction``` folder and full S2 mask under ```/big_image``` folder."
   ]
  }
 ],
 "metadata": {
  "author": "tetiana.shtym@kappazeta.ee",
  "description": "This notebook explains how to use cloud mask processor on the Sentinel-2 products.",
  "kernelspec": {
   "display_name": "Python 3 (ipykernel)",
   "language": "python",
   "name": "python3"
  },
  "language_info": {
   "codemirror_mode": {
    "name": "ipython",
    "version": 3
   },
   "file_extension": ".py",
   "mimetype": "text/x-python",
   "name": "python",
   "nbconvert_exporter": "python",
   "pygments_lexer": "ipython3",
   "version": "3.8.12"
  },
  "tags": {
   "category": "land use",
   "satellite": [
    "Sentinel-2"
   ],
   "type": "Notebook"
  },
  "title": "AI-based cloud and cloud shadow detection processor for Sentinel-2"
 },
 "nbformat": 4,
 "nbformat_minor": 5
}
